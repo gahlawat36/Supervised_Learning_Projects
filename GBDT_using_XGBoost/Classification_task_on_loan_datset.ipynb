{
 "cells": [
  {
   "cell_type": "markdown",
   "metadata": {},
   "source": [
    "# Machine Learning Continuous Assessment 2.\n",
    "Student Name: Pradeep Gahlawat (10524011)\n"
   ]
  },
  {
   "cell_type": "markdown",
   "metadata": {},
   "source": [
    "## Local Development Corporations Loans DataSet.\n",
    "\n",
    "\n",
    "Data Source: https://data.ny.gov/Transparency/Local-Development-Corporations-Loans/vp83-gfyz <br>\n",
    "\n",
    "Data is Provided by Individual Local Development Corporations submitted to Authorities Budget Office.\n",
    "The dataset consists of loans data reported by Local Development Corporations beginning with fiscal years ending in 2011..<br>\n",
    "\n",
    "\n",
    "Number of columns: 18<br>\n",
    "Number of records: 12,042<br>\n",
    "\n",
    "\n",
    "Attribute Information:\n",
    "\n",
    "1.  Authority Name: Name of the Public Authority  \n",
    "2.  Fiscal Year End Date: Date of Fiscal Year end for the Authority\n",
    "3.  Loan Purpose: Indicates the purpose of the loan.\n",
    "4.  Loan Fund Sources: Indicates whether the funds for the loan were federal, state, municipal, not for profit, private, or other.\n",
    "5.  Recipient Name: Name of the recipient of the loan\n",
    "6.  Recipient City: City of the recipient of the loan\n",
    "7.  Recipient State: State of the recipient of the loan\n",
    "8.  Recipient Postal Code: Zip code of the recipient of the loan\n",
    "9.  Date Loan Awarded: Date the loan was awarded\n",
    "10. Original Loan Amount: Original amount of the loan\n",
    "11. Interest Rate: Interest rate of the loan as a percentage.\n",
    "12. Loan Length: Number of years to repay loan\n",
    "13. Amount Repaid: Amount of the loan that was repaid as of the end of the fiscal year.\n",
    "14. New Jobs: Yes/No field that indicates if the loan was expected to result in new jobs being created.\n",
    "15. Loans: No indicates that the authority reported having no outstanding loans during the fiscal year. All the remaining fields are     blank when an authority reported having no outstanding loans. This field is blank if loan information is being reported.\n",
    "16. Jobs Planned: Number of jobs planned to be created as a result of the loan. This field is blank if the authority indicated that       the loan was not expected to result in new jobs being created or if there were no loans.\n",
    "17. Jobs Created: Number of jobs created as a result of the loan. This field is blank if the authority indicated that the loan was       not expected to result in new jobs being created or if there were no loans.\n",
    "18. Loan Terms Completed: Yes/No field that indicates if the terms of the loan were completed.\n",
    "\n",
    "\n",
    "#### Objective:\n",
    "Given a set of information, determine whether the Loan term will be completed or not?\n"
   ]
  },
  {
   "cell_type": "markdown",
   "metadata": {},
   "source": [
    "# 1) Reading Data"
   ]
  },
  {
   "cell_type": "code",
   "execution_count": 1,
   "metadata": {},
   "outputs": [],
   "source": [
    "# Import required libraries and packages.\n",
    "%matplotlib inline\n",
    "import warnings\n",
    "import numpy as np\n",
    "import pandas as pd\n",
    "import matplotlib.pyplot as plt\n",
    "import seaborn as sns\n",
    "from sklearn.preprocessing import OneHotEncoder, LabelEncoder\n",
    "import plotly.figure_factory as ff\n",
    "import plotly.offline as offline\n",
    "from sklearn import preprocessing\n",
    "from collections import Counter\n",
    "from sklearn.model_selection import train_test_split\n",
    "from xgboost import XGBClassifier\n",
    "from sklearn.model_selection import RepeatedStratifiedKFold\n",
    "from sklearn.model_selection import GridSearchCV\n",
    "from sklearn import metrics\n",
    "from sklearn.metrics import confusion_matrix\n",
    "from sklearn.metrics import classification_report\n",
    "from sklearn.metrics import accuracy_score\n",
    "from sklearn.metrics import roc_curve, auc\n",
    "from sklearn.metrics import roc_auc_score"
   ]
  },
  {
   "cell_type": "markdown",
   "metadata": {},
   "source": [
    "Dataset is available in following formats.\n",
    "1. CSV\n",
    "2. TSV\n",
    "3. XML\n",
    "4. RDF\n",
    "\n",
    "We will import it in csv format."
   ]
  },
  {
   "cell_type": "code",
   "execution_count": 2,
   "metadata": {},
   "outputs": [
    {
     "data": {
      "text/html": [
       "<div>\n",
       "<style scoped>\n",
       "    .dataframe tbody tr th:only-of-type {\n",
       "        vertical-align: middle;\n",
       "    }\n",
       "\n",
       "    .dataframe tbody tr th {\n",
       "        vertical-align: top;\n",
       "    }\n",
       "\n",
       "    .dataframe thead th {\n",
       "        text-align: right;\n",
       "    }\n",
       "</style>\n",
       "<table border=\"1\" class=\"dataframe\">\n",
       "  <thead>\n",
       "    <tr style=\"text-align: right;\">\n",
       "      <th></th>\n",
       "      <th>Authority_Name</th>\n",
       "      <th>Fiscal_Year_End_Date</th>\n",
       "      <th>Loans</th>\n",
       "      <th>Loan_Fund_Sources</th>\n",
       "      <th>Recipient_Name</th>\n",
       "      <th>Recipient_City</th>\n",
       "      <th>Recipient_State</th>\n",
       "      <th>Recipient_Postal_Code</th>\n",
       "      <th>Date_Loan_Awarded</th>\n",
       "      <th>Original_Loan_Amount</th>\n",
       "      <th>Interest_Rate</th>\n",
       "      <th>Loan_Length</th>\n",
       "      <th>Amount_Repaid</th>\n",
       "      <th>Loan_Purpose</th>\n",
       "      <th>New_Jobs</th>\n",
       "      <th>Jobs_Planned</th>\n",
       "      <th>Jobs_Created</th>\n",
       "      <th>Loan_Terms_Completed</th>\n",
       "    </tr>\n",
       "  </thead>\n",
       "  <tbody>\n",
       "    <tr>\n",
       "      <th>0</th>\n",
       "      <td>ATC of Buffalo and Erie County, Inc.</td>\n",
       "      <td>12/31/2011</td>\n",
       "      <td>No</td>\n",
       "      <td>NaN</td>\n",
       "      <td>NaN</td>\n",
       "      <td>NaN</td>\n",
       "      <td>NaN</td>\n",
       "      <td>NaN</td>\n",
       "      <td>NaN</td>\n",
       "      <td>NaN</td>\n",
       "      <td>NaN</td>\n",
       "      <td>NaN</td>\n",
       "      <td>NaN</td>\n",
       "      <td>NaN</td>\n",
       "      <td>NaN</td>\n",
       "      <td>NaN</td>\n",
       "      <td>NaN</td>\n",
       "      <td>NaN</td>\n",
       "    </tr>\n",
       "    <tr>\n",
       "      <th>1</th>\n",
       "      <td>Albany CSO Pool Communities Corporation</td>\n",
       "      <td>9/30/2016</td>\n",
       "      <td>No</td>\n",
       "      <td>NaN</td>\n",
       "      <td>NaN</td>\n",
       "      <td>NaN</td>\n",
       "      <td>NaN</td>\n",
       "      <td>NaN</td>\n",
       "      <td>NaN</td>\n",
       "      <td>NaN</td>\n",
       "      <td>NaN</td>\n",
       "      <td>NaN</td>\n",
       "      <td>NaN</td>\n",
       "      <td>NaN</td>\n",
       "      <td>NaN</td>\n",
       "      <td>NaN</td>\n",
       "      <td>NaN</td>\n",
       "      <td>NaN</td>\n",
       "    </tr>\n",
       "    <tr>\n",
       "      <th>2</th>\n",
       "      <td>Albany CSO Pool Communities Corporation</td>\n",
       "      <td>9/30/2017</td>\n",
       "      <td>No</td>\n",
       "      <td>NaN</td>\n",
       "      <td>NaN</td>\n",
       "      <td>NaN</td>\n",
       "      <td>NaN</td>\n",
       "      <td>NaN</td>\n",
       "      <td>NaN</td>\n",
       "      <td>NaN</td>\n",
       "      <td>NaN</td>\n",
       "      <td>NaN</td>\n",
       "      <td>NaN</td>\n",
       "      <td>NaN</td>\n",
       "      <td>NaN</td>\n",
       "      <td>NaN</td>\n",
       "      <td>NaN</td>\n",
       "      <td>NaN</td>\n",
       "    </tr>\n",
       "    <tr>\n",
       "      <th>3</th>\n",
       "      <td>Albany CSO Pool Communities Corporation</td>\n",
       "      <td>9/30/2018</td>\n",
       "      <td>No</td>\n",
       "      <td>NaN</td>\n",
       "      <td>NaN</td>\n",
       "      <td>NaN</td>\n",
       "      <td>NaN</td>\n",
       "      <td>NaN</td>\n",
       "      <td>NaN</td>\n",
       "      <td>NaN</td>\n",
       "      <td>NaN</td>\n",
       "      <td>NaN</td>\n",
       "      <td>NaN</td>\n",
       "      <td>NaN</td>\n",
       "      <td>NaN</td>\n",
       "      <td>NaN</td>\n",
       "      <td>NaN</td>\n",
       "      <td>NaN</td>\n",
       "    </tr>\n",
       "    <tr>\n",
       "      <th>4</th>\n",
       "      <td>Albany County Business Development Corporation</td>\n",
       "      <td>12/31/2011</td>\n",
       "      <td>NaN</td>\n",
       "      <td>Federal</td>\n",
       "      <td>135 Mohawk Street LLC</td>\n",
       "      <td>TROY</td>\n",
       "      <td>NY</td>\n",
       "      <td>12180.0</td>\n",
       "      <td>10/8/2009</td>\n",
       "      <td>100000.0</td>\n",
       "      <td>4.0</td>\n",
       "      <td>5.0</td>\n",
       "      <td>10580.1</td>\n",
       "      <td>Commercial Property Construction/Acquisition/R...</td>\n",
       "      <td>Yes</td>\n",
       "      <td>10.0</td>\n",
       "      <td>0.0</td>\n",
       "      <td>No</td>\n",
       "    </tr>\n",
       "  </tbody>\n",
       "</table>\n",
       "</div>"
      ],
      "text/plain": [
       "                                   Authority_Name Fiscal_Year_End_Date Loans  \\\n",
       "0            ATC of Buffalo and Erie County, Inc.           12/31/2011    No   \n",
       "1         Albany CSO Pool Communities Corporation            9/30/2016    No   \n",
       "2         Albany CSO Pool Communities Corporation            9/30/2017    No   \n",
       "3         Albany CSO Pool Communities Corporation            9/30/2018    No   \n",
       "4  Albany County Business Development Corporation           12/31/2011   NaN   \n",
       "\n",
       "  Loan_Fund_Sources         Recipient_Name Recipient_City Recipient_State  \\\n",
       "0               NaN                    NaN            NaN             NaN   \n",
       "1               NaN                    NaN            NaN             NaN   \n",
       "2               NaN                    NaN            NaN             NaN   \n",
       "3               NaN                    NaN            NaN             NaN   \n",
       "4           Federal  135 Mohawk Street LLC           TROY              NY   \n",
       "\n",
       "   Recipient_Postal_Code Date_Loan_Awarded  Original_Loan_Amount  \\\n",
       "0                    NaN               NaN                   NaN   \n",
       "1                    NaN               NaN                   NaN   \n",
       "2                    NaN               NaN                   NaN   \n",
       "3                    NaN               NaN                   NaN   \n",
       "4                12180.0         10/8/2009              100000.0   \n",
       "\n",
       "   Interest_Rate  Loan_Length  Amount_Repaid  \\\n",
       "0            NaN          NaN            NaN   \n",
       "1            NaN          NaN            NaN   \n",
       "2            NaN          NaN            NaN   \n",
       "3            NaN          NaN            NaN   \n",
       "4            4.0          5.0        10580.1   \n",
       "\n",
       "                                        Loan_Purpose New_Jobs  Jobs_Planned  \\\n",
       "0                                                NaN      NaN           NaN   \n",
       "1                                                NaN      NaN           NaN   \n",
       "2                                                NaN      NaN           NaN   \n",
       "3                                                NaN      NaN           NaN   \n",
       "4  Commercial Property Construction/Acquisition/R...      Yes          10.0   \n",
       "\n",
       "   Jobs_Created Loan_Terms_Completed  \n",
       "0           NaN                  NaN  \n",
       "1           NaN                  NaN  \n",
       "2           NaN                  NaN  \n",
       "3           NaN                  NaN  \n",
       "4           0.0                   No  "
      ]
     },
     "execution_count": 2,
     "metadata": {},
     "output_type": "execute_result"
    }
   ],
   "source": [
    "# Load the dataset and convert it into a pandas dataframe object.\n",
    "df = pd.read_csv('ldcl.csv')\n",
    "\n",
    "# Eliminate white space in dataframe header and replace by '_'\n",
    "df.columns = df.columns.str.replace(' ','_')\n",
    "\n",
    "# print the first 5 rows of the dataframe.\n",
    "df.head()"
   ]
  },
  {
   "cell_type": "code",
   "execution_count": 3,
   "metadata": {},
   "outputs": [
    {
     "name": "stdout",
     "output_type": "stream",
     "text": [
      "<class 'pandas.core.frame.DataFrame'>\n",
      "RangeIndex: 12042 entries, 0 to 12041\n",
      "Data columns (total 18 columns):\n",
      " #   Column                 Non-Null Count  Dtype  \n",
      "---  ------                 --------------  -----  \n",
      " 0   Authority_Name         12042 non-null  object \n",
      " 1   Fiscal_Year_End_Date   12042 non-null  object \n",
      " 2   Loans                  1348 non-null   object \n",
      " 3   Loan_Fund_Sources      10694 non-null  object \n",
      " 4   Recipient_Name         10694 non-null  object \n",
      " 5   Recipient_City         10694 non-null  object \n",
      " 6   Recipient_State        10694 non-null  object \n",
      " 7   Recipient_Postal_Code  10694 non-null  float64\n",
      " 8   Date_Loan_Awarded      10694 non-null  object \n",
      " 9   Original_Loan_Amount   10694 non-null  float64\n",
      " 10  Interest_Rate          10694 non-null  float64\n",
      " 11  Loan_Length            10694 non-null  float64\n",
      " 12  Amount_Repaid          10694 non-null  float64\n",
      " 13  Loan_Purpose           10694 non-null  object \n",
      " 14  New_Jobs               10694 non-null  object \n",
      " 15  Jobs_Planned           5131 non-null   float64\n",
      " 16  Jobs_Created           5107 non-null   float64\n",
      " 17  Loan_Terms_Completed   10694 non-null  object \n",
      "dtypes: float64(7), object(11)\n",
      "memory usage: 1.7+ MB\n"
     ]
    }
   ],
   "source": [
    "# Print the high level info of our dataframe including null value count and Dtype.\n",
    "df.info()"
   ]
  },
  {
   "cell_type": "code",
   "execution_count": 4,
   "metadata": {},
   "outputs": [
    {
     "data": {
      "text/plain": [
       "Authority_Name               0\n",
       "Fiscal_Year_End_Date         0\n",
       "Loans                    10694\n",
       "Loan_Fund_Sources         1348\n",
       "Recipient_Name            1348\n",
       "Recipient_City            1348\n",
       "Recipient_State           1348\n",
       "Recipient_Postal_Code     1348\n",
       "Date_Loan_Awarded         1348\n",
       "Original_Loan_Amount      1348\n",
       "Interest_Rate             1348\n",
       "Loan_Length               1348\n",
       "Amount_Repaid             1348\n",
       "Loan_Purpose              1348\n",
       "New_Jobs                  1348\n",
       "Jobs_Planned              6911\n",
       "Jobs_Created              6935\n",
       "Loan_Terms_Completed      1348\n",
       "dtype: int64"
      ]
     },
     "execution_count": 4,
     "metadata": {},
     "output_type": "execute_result"
    }
   ],
   "source": [
    "# Check number of null values in each column.\n",
    "df.isna().sum()"
   ]
  },
  {
   "cell_type": "markdown",
   "metadata": {},
   "source": [
    "<b>Observations:</b> \n",
    "1. Loans data has almost 80% missing values. (reason stated in attribute information)\n",
    "2. Jobs Planned and Jobs Created has 6911 missing values because of Loans columns. we will replace nan by 0 in these columns."
   ]
  },
  {
   "cell_type": "markdown",
   "metadata": {},
   "source": [
    "# 2) Data Preprocessing"
   ]
  },
  {
   "cell_type": "code",
   "execution_count": 5,
   "metadata": {},
   "outputs": [
    {
     "name": "stdout",
     "output_type": "stream",
     "text": [
      "304\n"
     ]
    },
    {
     "data": {
      "text/plain": [
       "Catskill Watershed Corporation                              924\n",
       "City of Watertown Local Development Corporation             767\n",
       "Albany County Business Development Corporation              741\n",
       "Buffalo and Erie County Regional Development Corporation    698\n",
       "Columbia Economic Development Corporation                   515\n",
       "                                                           ... \n",
       "The Hamilton County Local Development Corporation             1\n",
       "Village of Lancaster Community Development Corporation        1\n",
       "Greater Mohawk Valley Land Bank Corporation                   1\n",
       "BURA INC                                                      1\n",
       "Niagara Orleans Land Improvement Corporation                  1\n",
       "Name: Authority_Name, Length: 304, dtype: int64"
      ]
     },
     "execution_count": 5,
     "metadata": {},
     "output_type": "execute_result"
    }
   ],
   "source": [
    "# Get total number of unique values in Authority_Name feature.\n",
    "print(len(pd.value_counts(df.Authority_Name)))\n",
    "\n",
    "# Get unique values counts .\n",
    "df.Authority_Name.value_counts()"
   ]
  },
  {
   "cell_type": "code",
   "execution_count": 6,
   "metadata": {},
   "outputs": [],
   "source": [
    "'''\n",
    "   We will remove following columns.\n",
    "   \n",
    "   Authority Name and Recipient_Name:  As name variable has no relation to the loan repayment.\n",
    "   Recipient_City and Recipient_State:  As we have postal codes for geo locations.\n",
    "   Loans: Other columns only has a value if it has a missing value. Hense more than 80% values are missing.  \n",
    "     \n",
    "'''\n",
    "# Drop listed columns.\n",
    "df = df.drop(['Authority_Name',\n",
    "              'Loans',\n",
    "              'Recipient_Name',\n",
    "              'Recipient_City',\n",
    "              'Recipient_State',], axis = 'columns')"
   ]
  },
  {
   "cell_type": "code",
   "execution_count": 7,
   "metadata": {},
   "outputs": [
    {
     "name": "stdout",
     "output_type": "stream",
     "text": [
      "datetime64[ns]\n",
      "datetime64[ns]\n"
     ]
    }
   ],
   "source": [
    "# Convert dtype of the Fiscal_Year_End_Date feature from Object to datetime.\n",
    "df.Fiscal_Year_End_Date = pd.to_datetime(df.Fiscal_Year_End_Date)\n",
    "print (df.Fiscal_Year_End_Date.dtype)\n",
    "\n",
    "# Create two new columns containing month and year of the fiscal date. We exclude day which is common (31) for all entries. \n",
    "df['Fiscal_End_Year'] = df.Fiscal_Year_End_Date.dt.year\n",
    "df['Fiscal_End_Month'] = df.Fiscal_Year_End_Date.dt.month\n",
    "\n",
    "# Convert dtype of the Date_Loan_Awarded feature from Object to datetime.\n",
    "df.Date_Loan_Awarded = pd.to_datetime(df.Date_Loan_Awarded)\n",
    "print (df.Date_Loan_Awarded.dtype)\n",
    "\n",
    "# Create three new columns containing day, month and year of the date when loan was awarded.\n",
    "df['Loan_Awarded_Year'] = df.Date_Loan_Awarded.dt.year\n",
    "df['Loan_Awarded_Month'] = df.Date_Loan_Awarded.dt.month\n",
    "df['Loan_Awarded_Day'] = df.Date_Loan_Awarded.dt.day\n",
    "\n",
    "# Remove original date columns.\n",
    "df = df.drop( ['Fiscal_Year_End_Date',\n",
    "               'Date_Loan_Awarded'], axis = 'columns')\n"
   ]
  },
  {
   "cell_type": "code",
   "execution_count": 8,
   "metadata": {},
   "outputs": [
    {
     "data": {
      "text/plain": [
       "Business Expansion/Startup                                                  4643\n",
       "Commercial Property Construction/Acquisition/Revitalization/Improvement     3845\n",
       "Equipment and Fixed Asset Acquisition                                       1590\n",
       "Residential Property Construction/Acquisition/Rehabilitation/Improvement     381\n",
       "Land Acquisition/Development /Infrastructure Costs (i.e., Water/Sewer)       115\n",
       "Land Preservation/Resource Conservation/Recreation                            63\n",
       "Marketing and Business Recruitment                                            39\n",
       "Education/Training(Business Development)                                      18\n",
       "Name: Loan_Purpose, dtype: int64"
      ]
     },
     "execution_count": 8,
     "metadata": {},
     "output_type": "execute_result"
    }
   ],
   "source": [
    "df.Loan_Purpose.value_counts()"
   ]
  },
  {
   "cell_type": "code",
   "execution_count": 9,
   "metadata": {},
   "outputs": [],
   "source": [
    "# Change the dtype of Loan_Fund_Sources feature to string as required by LabelEncoder.\n",
    "df.Loan_Fund_Sources = df.Loan_Fund_Sources.astype(str)\n",
    "\n",
    "# Create an instance of LabelEncoder object.\n",
    "lfs_le = LabelEncoder()\n",
    "\n",
    "# Transform Loan_Fund_Sources feature into numeric labels.\n",
    "lfs_labels = lfs_le.fit_transform(df.Loan_Fund_Sources)\n",
    "df.Loan_Fund_Sources = lfs_labels\n",
    "\n",
    "# Create an instance of OneHotEncoder object.\n",
    "lfs_ohe = OneHotEncoder()\n",
    "\n",
    "# Encode Loan_Fund_Sources labels into array using one-hot encoding scheme.\n",
    "lfs_feature_arr = lfs_ohe.fit_transform(df[['Loan_Fund_Sources']]).toarray()\n",
    "\n",
    "# Create meaningful header for one-hot encoded features.\n",
    "lfs_feature_labels = ['LFS_'+str(cls_label) for cls_label in lfs_le.classes_]\n",
    "lfs_features = pd.DataFrame(lfs_feature_arr, columns=lfs_feature_labels)\n",
    "\n",
    "# Merge new features with existing dataframe and drop original column.\n",
    "df = pd.concat([df, lfs_features], axis=1, sort=False)\n",
    "df = df.drop('Loan_Fund_Sources',axis = 1)"
   ]
  },
  {
   "cell_type": "code",
   "execution_count": 10,
   "metadata": {},
   "outputs": [],
   "source": [
    "# Get one hot encoding of columns Loan_Purpose.\n",
    "one_hot = pd.get_dummies(df['Loan_Purpose'])\n",
    "\n",
    "# Drop column BORO as it is now encoded\n",
    "df = df.drop('Loan_Purpose',axis = 1)\n",
    "\n",
    "# Join the encoded df\n",
    "df = df.join(one_hot)\n",
    "\n",
    "# Manually Rename new columns as they are long strings and Using prefix attribute is not a good option.\n",
    "df=df.rename(columns = {'Business Expansion/Startup':'Loan_Purpose_0',\n",
    "                        'Commercial Property Construction/Acquisition/Revitalization/Improvement':'Loan_Purpose_1',\n",
    "                        'Education/Training(Business Development)':'Loan_Purpose_2',\n",
    "                        'Equipment and Fixed Asset Acquisition':'Loan_Purpose_3',\n",
    "                        'Land Acquisition/Development /Infrastructure Costs (i.e., Water/Sewer)':'Loan_Purpose_4',\n",
    "                        'Land Preservation/Resource Conservation/Recreation':'Loan_Purpose_5',\n",
    "                        'Marketing and Business Recruitment':'Loan_Purpose_6',\n",
    "                        'Residential Property Construction/Acquisition/Rehabilitation/Improvement':'Loan_Purpose_7'})"
   ]
  },
  {
   "cell_type": "code",
   "execution_count": 11,
   "metadata": {},
   "outputs": [
    {
     "data": {
      "text/plain": [
       "Index(['Recipient_Postal_Code', 'Original_Loan_Amount', 'Interest_Rate',\n",
       "       'Loan_Length', 'Amount_Repaid', 'New_Jobs', 'Jobs_Planned',\n",
       "       'Jobs_Created', 'Loan_Terms_Completed', 'Fiscal_End_Year',\n",
       "       'Fiscal_End_Month', 'Loan_Awarded_Year', 'Loan_Awarded_Month',\n",
       "       'Loan_Awarded_Day', 'LFS_Federal', 'LFS_Municipal',\n",
       "       'LFS_Not for Profit', 'LFS_Other', 'LFS_Private', 'LFS_State',\n",
       "       'LFS_nan', 'Loan_Purpose_0', 'Loan_Purpose_1', 'Loan_Purpose_2',\n",
       "       'Loan_Purpose_3', 'Loan_Purpose_4', 'Loan_Purpose_5', 'Loan_Purpose_6',\n",
       "       'Loan_Purpose_7'],\n",
       "      dtype='object')"
      ]
     },
     "execution_count": 11,
     "metadata": {},
     "output_type": "execute_result"
    }
   ],
   "source": [
    "df.columns"
   ]
  },
  {
   "cell_type": "code",
   "execution_count": 12,
   "metadata": {},
   "outputs": [],
   "source": [
    "# Replace NaN values with '0' as no new job was intended.\n",
    "df['Jobs_Planned'].fillna(0, inplace=True)\n",
    "df['Jobs_Created'].fillna(0, inplace=True)"
   ]
  },
  {
   "cell_type": "code",
   "execution_count": 13,
   "metadata": {},
   "outputs": [],
   "source": [
    "# Map Binomial categorical features to binary (0,1) .\n",
    "df['New_Jobs'] = df['New_Jobs'].map({'No': 0,'Yes': 1})\n",
    "df['Loan_Terms_Completed'] = df['Loan_Terms_Completed'].map({'No': 0,'Yes': 1})"
   ]
  },
  {
   "cell_type": "code",
   "execution_count": 14,
   "metadata": {},
   "outputs": [],
   "source": [
    "# Drop 1348 empty records, caused by Loan feature.\n",
    "# We excluded jobs created and jobs planned feature as we will try to impute them after exploration.\n",
    "df = df.dropna(subset = ['Recipient_Postal_Code', 'Original_Loan_Amount','Interest_Rate',\n",
    "                         'Loan_Length', 'New_Jobs', 'Amount_Repaid', 'Loan_Terms_Completed'])  \n",
    "\n",
    "# Drop LFS_nan coumns as it only has value 'o'\n",
    "df = df.drop('LFS_nan', axis = 'columns')"
   ]
  },
  {
   "cell_type": "markdown",
   "metadata": {},
   "source": [
    "# 3) Feature-target relationship and distribution check. "
   ]
  },
  {
   "cell_type": "code",
   "execution_count": 15,
   "metadata": {},
   "outputs": [
    {
     "data": {
      "text/plain": [
       "Original_Loan_Amount    0.012278\n",
       "Interest_Rate           0.028244\n",
       "Loan_Length            -0.071356\n",
       "Amount_Repaid           0.109914\n",
       "New_Jobs                0.035825\n",
       "Jobs_Planned            0.018229\n",
       "Jobs_Created            0.021930\n",
       "Loan_Terms_Completed    1.000000\n",
       "Fiscal_End_Year         0.031651\n",
       "Fiscal_End_Month        0.005875\n",
       "Loan_Awarded_Year      -0.084901\n",
       "Loan_Awarded_Month     -0.018971\n",
       "Loan_Awarded_Day        0.002256\n",
       "LFS_Federal             0.021160\n",
       "LFS_Municipal           0.038478\n",
       "LFS_Not for Profit     -0.067210\n",
       "LFS_Other               0.016629\n",
       "LFS_Private             0.009214\n",
       "LFS_State               0.004336\n",
       "Loan_Purpose_0          0.030452\n",
       "Loan_Purpose_1         -0.059286\n",
       "Loan_Purpose_2          0.001156\n",
       "Loan_Purpose_3          0.033467\n",
       "Loan_Purpose_4          0.024980\n",
       "Loan_Purpose_5          0.064394\n",
       "Loan_Purpose_6         -0.000432\n",
       "Loan_Purpose_7         -0.032780\n",
       "Name: Loan_Terms_Completed, dtype: float64"
      ]
     },
     "execution_count": 15,
     "metadata": {},
     "output_type": "execute_result"
    }
   ],
   "source": [
    "# check the correlation between all features and independent variable.\n",
    "df[df.columns[1:]].corr()['Loan_Terms_Completed'][:]"
   ]
  },
  {
   "cell_type": "markdown",
   "metadata": {},
   "source": [
    "<b>Observations:</b>\n",
    "1. Amount repaid is highly correlated with our independent variable.\n",
    "2. LFS_State, LFS_Private, Loan_Purpose_6, Loan_Purpose_2 do not have much relation with independent variable."
   ]
  },
  {
   "cell_type": "code",
   "execution_count": 16,
   "metadata": {},
   "outputs": [],
   "source": [
    "# There is no need to check multicollinearity as boosting algorithms are unaffected by multi-collinearity.\n",
    "# But it is a good practice to remove features that has no correlation with independent variable.\n",
    "# Drop listed columns.\n",
    "df = df.drop(['Loan_Purpose_6',\n",
    "              'Loan_Purpose_2',\n",
    "              'LFS_State',\n",
    "              'LFS_Private'], axis = 'columns')"
   ]
  },
  {
   "cell_type": "code",
   "execution_count": 17,
   "metadata": {},
   "outputs": [
    {
     "name": "stdout",
     "output_type": "stream",
     "text": [
      "Recipient_Postal_Code    16.358089\n",
      "Original_Loan_Amount     12.262324\n",
      "Interest_Rate            -0.145729\n",
      "Loan_Length               4.342486\n",
      "Amount_Repaid            18.767646\n",
      "New_Jobs                  0.090999\n",
      "Jobs_Planned             63.281333\n",
      "Jobs_Created             10.114736\n",
      "Loan_Terms_Completed      1.891711\n",
      "Fiscal_End_Year          -0.051264\n",
      "Fiscal_End_Month         -2.743042\n",
      "Loan_Awarded_Year        -1.628226\n",
      "Loan_Awarded_Month       -0.039070\n",
      "Loan_Awarded_Day          0.077430\n",
      "LFS_Federal               0.193179\n",
      "LFS_Municipal             3.438952\n",
      "LFS_Not for Profit        1.247782\n",
      "LFS_Other                 2.256200\n",
      "Loan_Purpose_0            0.265675\n",
      "Loan_Purpose_1            0.585463\n",
      "Loan_Purpose_3            1.975229\n",
      "Loan_Purpose_4            9.488279\n",
      "Loan_Purpose_5           12.915059\n",
      "Loan_Purpose_7            5.011210\n",
      "dtype: float64\n"
     ]
    }
   ],
   "source": [
    "# Check the skewness of each column.\n",
    "skew_data = df.skew()\n",
    "print(skew_data)"
   ]
  },
  {
   "cell_type": "markdown",
   "metadata": {},
   "source": [
    "## 4) Splitting and Scalling data."
   ]
  },
  {
   "cell_type": "code",
   "execution_count": 18,
   "metadata": {},
   "outputs": [
    {
     "name": "stdout",
     "output_type": "stream",
     "text": [
      "(8555, 23) (8555,)\n",
      "(2139, 23) (2139,)\n"
     ]
    }
   ],
   "source": [
    "# Separate input features and target\n",
    "Y = df.Loan_Terms_Completed\n",
    "X = df.drop('Loan_Terms_Completed', axis = 'columns')\n",
    "\n",
    "# setting up testing and training sets\n",
    "X_train, X_test, Y_train, Y_test = train_test_split(X, Y, test_size=0.20, random_state=36)\n",
    "from sklearn.preprocessing import StandardScaler\n",
    "# Create an instance of standardscaler\n",
    "sc = StandardScaler()\n",
    "\n",
    "# Scale data to have mean 0  and std of 1\n",
    "X_train = sc.fit_transform(X_train)\n",
    "X_test = sc.transform (X_test)\n",
    "\n",
    "print(X_train.shape, Y_train.shape)\n",
    "print(X_test.shape, Y_test.shape)"
   ]
  },
  {
   "cell_type": "code",
   "execution_count": 19,
   "metadata": {},
   "outputs": [
    {
     "name": "stdout",
     "output_type": "stream",
     "text": [
      "Estimate: 5.403\n"
     ]
    }
   ],
   "source": [
    "# https://machinelearningmastery.com/xgboost-for-imbalanced-classification/\n",
    "# count examples in each class\n",
    "counter = Counter(Y_train)\n",
    "# estimate scale_pos_weight value for XGBoost classifier (to deal imbalanced data)\n",
    "estimate = counter[0] / counter[1]\n",
    "print('Estimate: %.3f' % estimate)"
   ]
  },
  {
   "cell_type": "markdown",
   "metadata": {},
   "source": [
    "## 5) Modelling and Evaluation."
   ]
  },
  {
   "cell_type": "code",
   "execution_count": 20,
   "metadata": {},
   "outputs": [
    {
     "name": "stdout",
     "output_type": "stream",
     "text": [
      "Wall time: 17min 55s\n",
      "\n",
      "========================================================\n",
      " Results from Grid Search \n",
      "==========================================================\n",
      "1. Best Parameters :\n",
      " XGBClassifier(base_score=0.5, booster='gbtree', colsample_bylevel=1,\n",
      "              colsample_bynode=1, colsample_bytree=1, gamma=0, gpu_id=-1,\n",
      "              importance_type='gain', interaction_constraints=None,\n",
      "              learning_rate=0.1, max_delta_step=0, max_depth=10,\n",
      "              min_child_weight=1, missing=nan, monotone_constraints=None,\n",
      "              n_estimators=500, n_jobs=1, num_parallel_tree=1,\n",
      "              objective='binary:logistic', random_state=0, reg_alpha=0,\n",
      "              reg_lambda=1, scale_pos_weight=5.403, subsample=1,\n",
      "              tree_method=None, validate_parameters=False, verbosity=None)\n",
      "2. AUC value of the model : 0.9388266252136598\n"
     ]
    }
   ],
   "source": [
    "# Set the parameter grid values for hyperparameter tunning\n",
    "param_grid = {'n_estimators': [10, 50, 100, 500, 700],\n",
    "              'max_depth': [1, 2, 5, 10, 50] }\n",
    "\n",
    "# Create an instance of XGBoost classifier\n",
    "clf = XGBClassifier(learning_rate=0.1, booster='gbtree',\n",
    "                    scale_pos_weight = 5.403, n_jobs=1)\n",
    "\n",
    "# Create an instance of RepeatedStratifiedKFold\n",
    "cv = RepeatedStratifiedKFold(n_splits=10, n_repeats=3, random_state=1)\n",
    "\n",
    "# Put all the attributes into gridsearchcv to find best parameters\n",
    "clf_grid = GridSearchCV(estimator=clf, param_grid=param_grid, cv = cv,\n",
    "                        n_jobs=-1, scoring='roc_auc', refit=True, return_train_score=True)\n",
    " \n",
    "# fit X_train on clf_grid    \n",
    "%time clf_grid.fit(X_train, Y_train)\n",
    "\n",
    "# Results from Grid Search\n",
    "print(\"\\n========================================================\")\n",
    "print(\" Results from Grid Search \" )\n",
    "print(\"==========================================================\") \n",
    "\n",
    "print(\"1. Best Parameters :\\n\",clf_grid.best_estimator_)\n",
    "print(\"2. AUC value of the model :\",clf_grid.score(X_test, Y_test))"
   ]
  },
  {
   "cell_type": "code",
   "execution_count": 21,
   "metadata": {},
   "outputs": [
    {
     "name": "stdout",
     "output_type": "stream",
     "text": [
      "3. The optimal value of max_depth is :  10\n",
      "3. The optimal value of min_samples_split is :  500\n"
     ]
    }
   ],
   "source": [
    "# Get Optimal depth and minimum samples split values.\n",
    "Optimal_depth = clf_grid.best_estimator_.max_depth\n",
    "n_estimators = clf_grid.best_estimator_.n_estimators\n",
    "print(\"3. The optimal value of max_depth is : \",Optimal_depth)\n",
    "print(\"3. The optimal value of min_samples_split is : \",n_estimators)"
   ]
  },
  {
   "cell_type": "code",
   "execution_count": 22,
   "metadata": {},
   "outputs": [
    {
     "name": "stdout",
     "output_type": "stream",
     "text": [
      "Train AUC values: \n",
      " [0.69156674 0.78668797 0.81870686 0.8642619  0.86886735 0.83712609\n",
      " 0.87154127 0.89410532 0.94820853 0.95834681 0.91456461 0.96773144\n",
      " 0.9841487  0.99977436 0.99997908 0.99064461 0.99949776 0.99998559\n",
      " 1.         1.         0.99808819 0.99999464 1.         1.\n",
      " 1.        ]\n",
      "CV AUC values: \n",
      " [0.68557072 0.7784641  0.80645352 0.84599821 0.84880656 0.82858465\n",
      " 0.85557388 0.87362632 0.91527671 0.92263821 0.88394035 0.92466524\n",
      " 0.93323825 0.94010798 0.94079977 0.92497448 0.9358855  0.93929266\n",
      " 0.94112779 0.94087837 0.92311997 0.93544462 0.93882246 0.94020425\n",
      " 0.9401339 ]\n"
     ]
    }
   ],
   "source": [
    "# Compute train and cross-validation AUC score.\n",
    "train_auc = clf_grid.cv_results_['mean_train_score']\n",
    "cv_auc = clf_grid.cv_results_['mean_test_score']\n",
    "\n",
    "print('Train AUC values: \\n', train_auc)\n",
    "print('CV AUC values: \\n', cv_auc)"
   ]
  },
  {
   "cell_type": "code",
   "execution_count": 23,
   "metadata": {},
   "outputs": [],
   "source": [
    "# Create a dataframe to be used for heat-map\n",
    "hyperparameters = clf_grid.cv_results_[\"params\"]\n",
    "df1 = pd.DataFrame(hyperparameters)\n",
    "df1['mean_test_score'] = cv_auc\n",
    "df1['mean_train_score'] = train_auc"
   ]
  },
  {
   "cell_type": "code",
   "execution_count": 24,
   "metadata": {},
   "outputs": [
    {
     "data": {
      "image/png": "[encoded data removed]",
      "text/plain": [
       "<Figure size 1008x432 with 4 Axes>"
      ]
     },
     "metadata": {
      "needs_background": "light"
     },
     "output_type": "display_data"
    }
   ],
   "source": [
    "# Heat-map for train and cv auc values.\n",
    "pivot_train = df1.pivot(index = 'max_depth', columns = 'n_estimators', values = 'mean_train_score')\n",
    "pivot_cv = df1.pivot(index = 'max_depth', columns = 'n_estimators', values = 'mean_test_score')\n",
    "\n",
    "fig, (ax1, ax2) = plt.subplots(1,2, figsize=(14,6))\n",
    "ax1.set_title('Train Data AUC')\n",
    "ax2.set_title('Test Data AUC')\n",
    "sns.heatmap(pivot_train, annot=True, ax=ax1)\n",
    "sns.heatmap(pivot_cv, annot=True, ax=ax2)\n",
    "plt.show()"
   ]
  },
  {
   "cell_type": "code",
   "execution_count": 25,
   "metadata": {},
   "outputs": [
    {
     "name": "stdout",
     "output_type": "stream",
     "text": [
      "Wall time: 12.7 s\n"
     ]
    },
    {
     "data": {
      "text/plain": [
       "XGBClassifier(base_score=0.5, booster='gbtree', colsample_bylevel=1,\n",
       "              colsample_bynode=1, colsample_bytree=1, gamma=0, gpu_id=-1,\n",
       "              importance_type='gain', interaction_constraints=None,\n",
       "              learning_rate=0.1, max_delta_step=0, max_depth=10,\n",
       "              min_child_weight=1, missing=nan, monotone_constraints=None,\n",
       "              n_estimators=500, n_jobs=1, num_parallel_tree=1,\n",
       "              objective='binary:logistic', random_state=0, reg_alpha=0,\n",
       "              reg_lambda=1, scale_pos_weight=1, subsample=1, tree_method=None,\n",
       "              validate_parameters=False, verbosity=None)"
      ]
     },
     "execution_count": 25,
     "metadata": {},
     "output_type": "execute_result"
    }
   ],
   "source": [
    "# Fit XGBClassifier on train data with best parameters. \n",
    "clf =  XGBClassifier(max_depth=Optimal_depth, n_estimators=n_estimators, learning_rate=0.1, booster='gbtree', n_jobs=1)\n",
    "%time clf.fit(X_train, Y_train)"
   ]
  },
  {
   "cell_type": "code",
   "execution_count": 26,
   "metadata": {},
   "outputs": [
    {
     "data": {
      "image/png": "[encoded data removed]",
      "text/plain": [
       "<Figure size 504x432 with 1 Axes>"
      ]
     },
     "metadata": {
      "needs_background": "light"
     },
     "output_type": "display_data"
    }
   ],
   "source": [
    "# ROC curve for cv & train data set\n",
    "Y_test_predicted = clf.predict_proba(X_test)[:,1]\n",
    "Y_train_predicted = clf.predict_proba(X_train)[:,1]\n",
    "\n",
    "plt.figure(figsize=(7,6))\n",
    "fpr, tpr, threshold = roc_curve(Y_train, Y_train_predicted)\n",
    "roc_auc_train = metrics.auc(fpr, tpr)\n",
    "plt.plot(fpr, tpr, 'r', label = 'Train AUC = %0.2f' % roc_auc_train)\n",
    "plt.legend(loc = 'lower right')\n",
    "\n",
    "fpr, tpr, threshold = roc_curve(Y_test, Y_test_predicted)\n",
    "roc_auc_test = metrics.auc(fpr, tpr)\n",
    "plt.plot(fpr, tpr, 'g', label = 'Test AUC = %0.2f' % roc_auc_test)\n",
    "plt.legend(loc = 'lower right')\n",
    "\n",
    "plt.plot([0, 1], [0, 1],'b--')\n",
    "plt.title('ROC for Train and CV Data', size = 15)\n",
    "plt.xlim([0, 1])\n",
    "plt.ylim([0, 1])\n",
    "plt.ylabel('True Positive Rate')\n",
    "plt.xlabel('False Positive Rate')\n",
    "plt.show()"
   ]
  },
  {
   "cell_type": "code",
   "execution_count": 27,
   "metadata": {},
   "outputs": [
    {
     "name": "stdout",
     "output_type": "stream",
     "text": [
      "              precision    recall  f1-score   support\n",
      "\n",
      "         0.0       0.95      0.97      0.96      1802\n",
      "         1.0       0.83      0.72      0.77       337\n",
      "\n",
      "    accuracy                           0.93      2139\n",
      "   macro avg       0.89      0.85      0.87      2139\n",
      "weighted avg       0.93      0.93      0.93      2139\n",
      "\n",
      "________________________________________________________________________________\n",
      "Accuracy is = 93.315\n"
     ]
    }
   ],
   "source": [
    "# Generate Classification report for X_test\n",
    "Y_test_predicted = clf.predict(X_test)\n",
    "Y_train_predicted = clf.predict(X_train)\n",
    "\n",
    "print(classification_report(Y_test, Y_test_predicted))\n",
    "print('_'*80)\n",
    "acc = accuracy_score(Y_test, Y_test_predicted)*100\n",
    "print('Accuracy is = %0.3f' % acc)"
   ]
  },
  {
   "cell_type": "code",
   "execution_count": 28,
   "metadata": {},
   "outputs": [
    {
     "data": {
      "image/png": "[encoded data removed]",
      "text/plain": [
       "<Figure size 576x360 with 2 Axes>"
      ]
     },
     "metadata": {
      "needs_background": "light"
     },
     "output_type": "display_data"
    },
    {
     "name": "stdout",
     "output_type": "stream",
     "text": [
      "Sensitivity for Train data is : 100.000000\n",
      "Specificity for Train data is : 100.000000\n"
     ]
    }
   ],
   "source": [
    "# Confusion matrices with heat map\n",
    "conf_matrix_train = confusion_matrix(Y_train, Y_train_predicted)\n",
    "class_label = ['negative', 'positive']\n",
    "df_conf_matrix = pd.DataFrame(conf_matrix_train, index=class_label, columns=class_label)\n",
    "fig = plt.figure(figsize=(8,5))\n",
    "sns.heatmap(df_conf_matrix, annot=True, fmt='d')\n",
    "plt.title(\"Confusion Matrix for Train Data\")\n",
    "plt.xlabel(\"Predicted\")\n",
    "plt.ylabel(\"Actual\")\n",
    "plt.show()\n",
    "\n",
    "# Compute Sensitivity and Specificity on Train data.\n",
    "TN = conf_matrix_train[0,0]  \n",
    "FP = conf_matrix_train[0,1]\n",
    "FN = conf_matrix_train[1,0]  \n",
    "TP = conf_matrix_train[1,1]\n",
    "\n",
    "# Sensitivity, hit rate, recall, or true positive rate\n",
    "Sensitivity = TP/(TP+FN)*100\n",
    "# Specificity or true negative rate\n",
    "Specificity = TN/(TN+FP)*100\n",
    "\n",
    "print(\"Sensitivity for Train data is : %f\" %(Sensitivity))\n",
    "print(\"Specificity for Train data is : %f\" %(Specificity))"
   ]
  },
  {
   "cell_type": "code",
   "execution_count": 29,
   "metadata": {},
   "outputs": [
    {
     "data": {
      "image/png": "[encoded data removed]",
      "text/plain": [
       "<Figure size 576x360 with 2 Axes>"
      ]
     },
     "metadata": {
      "needs_background": "light"
     },
     "output_type": "display_data"
    },
    {
     "name": "stdout",
     "output_type": "stream",
     "text": [
      "Sensitivity for Train data is : 72.403561\n",
      "Specificity for Train data is : 97.225305\n"
     ]
    }
   ],
   "source": [
    "# Confusion matrices with heat map\n",
    "conf_matrix_train = confusion_matrix(Y_test, Y_test_predicted)\n",
    "class_label = ['negative', 'positive']\n",
    "df_conf_matrix = pd.DataFrame(conf_matrix_train, index=class_label, columns=class_label)\n",
    "fig = plt.figure(figsize=(8,5))\n",
    "sns.heatmap(df_conf_matrix, annot=True, fmt='d')\n",
    "plt.title(\"Confusion Matrix for Train Data\")\n",
    "plt.xlabel(\"Predicted\")\n",
    "plt.ylabel(\"Actual\")\n",
    "plt.show()\n",
    "\n",
    "# Compute Sensitivity and Specificity on Train data.\n",
    "TN = conf_matrix_train[0,0]  \n",
    "FP = conf_matrix_train[0,1]\n",
    "FN = conf_matrix_train[1,0]  \n",
    "TP = conf_matrix_train[1,1]\n",
    "\n",
    "# Sensitivity, hit rate, recall, or true positive rate\n",
    "Sensitivity = TP/(TP+FN)*100\n",
    "# Specificity or true negative rate\n",
    "Specificity = TN/(TN+FP)*100\n",
    "\n",
    "print(\"Sensitivity for Train data is : %f\" %(Sensitivity))\n",
    "print(\"Specificity for Train data is : %f\" %(Specificity))"
   ]
  },
  {
   "cell_type": "code",
   "execution_count": null,
   "metadata": {},
   "outputs": [],
   "source": []
  }
 ],
 "metadata": {
  "kernelspec": {
   "display_name": "Python 3",
   "language": "python",
   "name": "python3"
  },
  "language_info": {
   "codemirror_mode": {
    "name": "ipython",
    "version": 3
   },
   "file_extension": ".py",
   "mimetype": "text/x-python",
   "name": "python",
   "nbconvert_exporter": "python",
   "pygments_lexer": "ipython3",
   "version": "3.7.3"
  }
 },
 "nbformat": 4,
 "nbformat_minor": 4
}
